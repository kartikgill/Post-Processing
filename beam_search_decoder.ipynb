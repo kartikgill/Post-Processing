{
 "cells": [
  {
   "cell_type": "code",
   "execution_count": 1,
   "metadata": {
    "ExecuteTime": {
     "end_time": "2020-03-08T08:28:21.188255Z",
     "start_time": "2020-03-08T08:28:21.100257Z"
    },
    "collapsed": true
   },
   "outputs": [],
   "source": [
    "import numpy as np\n",
    "import math"
   ]
  },
  {
   "cell_type": "code",
   "execution_count": 2,
   "metadata": {
    "ExecuteTime": {
     "end_time": "2020-03-08T08:28:21.782908Z",
     "start_time": "2020-03-08T08:28:21.779463Z"
    },
    "collapsed": true
   },
   "outputs": [],
   "source": [
    "model_prediction = [[0.1, 0.7, 0.1, 0.1],\n",
    "                    [0.7, 0.1, 0.1, 0.1],\n",
    "                    [0.1, 0.1, 0.6, 0.2],\n",
    "                    [0.1, 0.1, 0.1, 0.7],\n",
    "                    [0.4, 0.3, 0.2, 0.1]]"
   ]
  },
  {
   "cell_type": "code",
   "execution_count": 3,
   "metadata": {
    "ExecuteTime": {
     "end_time": "2020-03-08T08:28:22.229295Z",
     "start_time": "2020-03-08T08:28:22.223799Z"
    },
    "collapsed": true
   },
   "outputs": [],
   "source": [
    "def greedy_search_decoder(predictions):\n",
    "    \n",
    "    #select token with the maximum probability for each prediction\n",
    "    output_sequence = [np.argmax(prediction) for prediction in predictions]\n",
    "    \n",
    "    #storing token probabilities\n",
    "    token_probabilities = [np.max(prediction) for prediction in predictions]\n",
    "    \n",
    "    #multiply individaul token-level probabilities to get overall sequence probability\n",
    "    sequence_probability = np.product(token_probabilities)\n",
    "    \n",
    "    return output_sequence, sequence_probability"
   ]
  },
  {
   "cell_type": "code",
   "execution_count": 4,
   "metadata": {
    "ExecuteTime": {
     "end_time": "2020-03-08T08:28:22.916801Z",
     "start_time": "2020-03-08T08:28:22.907493Z"
    }
   },
   "outputs": [
    {
     "data": {
      "text/plain": [
       "([1, 0, 2, 3, 0], 0.08231999999999998)"
      ]
     },
     "execution_count": 4,
     "metadata": {},
     "output_type": "execute_result"
    }
   ],
   "source": [
    "greedy_search_decoder(model_prediction)"
   ]
  },
  {
   "cell_type": "code",
   "execution_count": 5,
   "metadata": {
    "ExecuteTime": {
     "end_time": "2020-03-08T08:28:23.703508Z",
     "start_time": "2020-03-08T08:28:23.693138Z"
    }
   },
   "outputs": [],
   "source": [
    "def beam_search_decoder(predictions, top_k = 3):\n",
    "    output_sequences = [([], 1.0)]\n",
    "    \n",
    "    #looping through all the predictions\n",
    "    for token_probs in predictions:\n",
    "        new_sequences = []\n",
    "        \n",
    "        #append new tokens to old sequences and re-score\n",
    "        for old_seq, old_score in output_sequences:\n",
    "            for char_index in range(len(token_probs)):\n",
    "                new_seq = old_seq + [char_index]\n",
    "                #considering log-likelihood for scoring\n",
    "                new_score = old_score * (-math.log(token_probs[char_index]))\n",
    "                new_sequences.append((new_seq, new_score))\n",
    "                \n",
    "        #sort all new sequences in increasing order of score\n",
    "        output_sequences = sorted(new_sequences, key = lambda val: val[1])\n",
    "        \n",
    "        #select top-k based on score \n",
    "        # *Note- best sequence is with the smallest score as we are \n",
    "        #        calculating log-likelihood\n",
    "        output_sequences = output_sequences[:top_k]\n",
    "        \n",
    "    return output_sequences"
   ]
  },
  {
   "cell_type": "code",
   "execution_count": 6,
   "metadata": {
    "ExecuteTime": {
     "end_time": "2020-03-08T08:28:24.343698Z",
     "start_time": "2020-03-08T08:28:24.339453Z"
    }
   },
   "outputs": [
    {
     "data": {
      "text/plain": [
       "[([1, 0, 2, 3, 0], 0.0212384966700603),\n",
       " ([1, 0, 2, 3, 1], 0.02790661468682351),\n",
       " ([1, 0, 2, 3, 2], 0.037304799180916594),\n",
       " ([1, 0, 2, 3, 3], 0.05337110169177288),\n",
       " ([1, 0, 3, 3, 0], 0.0669152841079077)]"
      ]
     },
     "execution_count": 6,
     "metadata": {},
     "output_type": "execute_result"
    }
   ],
   "source": [
    "beam_search_decoder(model_prediction, top_k = 5)"
   ]
  },
  {
   "cell_type": "code",
   "execution_count": null,
   "metadata": {
    "collapsed": true
   },
   "outputs": [],
   "source": []
  }
 ],
 "metadata": {
  "kernelspec": {
   "display_name": "Python 3",
   "language": "python",
   "name": "python3"
  },
  "language_info": {
   "codemirror_mode": {
    "name": "ipython",
    "version": 3
   },
   "file_extension": ".py",
   "mimetype": "text/x-python",
   "name": "python",
   "nbconvert_exporter": "python",
   "pygments_lexer": "ipython3",
   "version": "3.6.9"
  }
 },
 "nbformat": 4,
 "nbformat_minor": 2
}
